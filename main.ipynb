{
 "cells": [
  {
   "cell_type": "markdown",
   "metadata": {},
   "source": [
    "### Problem Description :\n",
    "\n",
    "* Employee Attrition is a huge problem across industries and generally costs the company a lot for\n",
    "  hiring, retraining, productivity and work loss for each employee who leaves.\n",
    "  \n",
    "### Anlaytics Objectives :\n",
    "\n",
    "* To create an analytical and modelling framework to predict whether an employee will leave\n",
    "  the company or not based on the quantitative and qualitative features provided in the datasets.\n",
    "* The firm is also interested in specific features that are highly indicative of attrition.\n",
    "\n",
    "### Attribute details :\n",
    "\n",
    "* EmployeeID : A unique identification key for every individual employee\n",
    "* TotalWorkingHours : The total working hours logged for the employee at the location\n",
    "* Billable_Hours : The number of hours that are used to charge the Client\n",
    "* Hours_off_Duty : Number of hours the employee took off\n",
    "* Touring_Hours : Number of hours the employee spent working at an offsite location\n",
    "* NoOfProjects : Number of Projects the employee is assigned to\n",
    "* ActualTimeSpent : Actual time the employee spent working according to the timesheets\n",
    "\n",
    "### Employee_data :\n",
    "\n",
    "#### Specific data regarding Employees for both Train and Test data\n",
    "* EmployeeID : A unique identification key for every individual employee\n",
    "* Job_History : A feature containing the previous companies where the employee was employed\n",
    "* Joining_Date : The date on which the employee Joined the organisation\n",
    "* Designation : The role of the employee in the company, with the following levels: EVP, Junior, MD,\n",
    "  Senior, VP\n",
    "* Sex : The gender of the employee\n",
    "\n",
    "### Target :\n",
    "\n",
    "* ‘Left_Company’ is the target variable and have to predict either ‘1’ (Left), ‘0’(Retained)."
   ]
  },
  {
   "cell_type": "markdown",
   "metadata": {},
   "source": [
    "### Importing Libreries"
   ]
  },
  {
   "cell_type": "code",
   "execution_count": 29,
   "metadata": {},
   "outputs": [],
   "source": [
    "import warnings\n",
    "warnings.filterwarnings(\"ignore\")\n",
    "\n",
    "import pandas as pd\n",
    "import numpy as np"
   ]
  },
  {
   "cell_type": "code",
   "execution_count": 30,
   "metadata": {},
   "outputs": [],
   "source": [
    "import os"
   ]
  },
  {
   "cell_type": "code",
   "execution_count": 31,
   "metadata": {},
   "outputs": [
    {
     "name": "stdout",
     "output_type": "stream",
     "text": [
      "C:\\Users\\DELL\\Documents\\Major Project\n"
     ]
    }
   ],
   "source": [
    "PATH = os.getcwd()\n",
    "print(PATH)"
   ]
  },
  {
   "cell_type": "markdown",
   "metadata": {},
   "source": [
    "## Reading train data"
   ]
  },
  {
   "cell_type": "code",
   "execution_count": 32,
   "metadata": {},
   "outputs": [],
   "source": [
    "train_data_attr = pd.read_csv(\"train_attrition.csv\", header=0, sep=',')\n",
    "train_data_work = pd.read_csv(\"train_work.csv\", header=0, sep=',')\n",
    "data_employee = pd.read_csv(\"employee_data.csv\", header=0, sep=',')"
   ]
  },
  {
   "cell_type": "markdown",
   "metadata": {},
   "source": [
    "## Reading Test Data"
   ]
  },
  {
   "cell_type": "code",
   "execution_count": 33,
   "metadata": {},
   "outputs": [],
   "source": [
    "test_data_attr = pd.read_csv(\"test_attrition.csv\", header=0, sep=',')\n",
    "test_data_work = pd.read_csv(\"test_work.csv\", header=0, sep=',')"
   ]
  },
  {
   "cell_type": "markdown",
   "metadata": {},
   "source": [
    "### Checking Columns "
   ]
  },
  {
   "cell_type": "code",
   "execution_count": 34,
   "metadata": {},
   "outputs": [
    {
     "data": {
      "text/plain": [
       "Index(['EmployeeID', 'Left_Company'], dtype='object')"
      ]
     },
     "execution_count": 34,
     "metadata": {},
     "output_type": "execute_result"
    }
   ],
   "source": [
    "train_data_attr.columns"
   ]
  },
  {
   "cell_type": "code",
   "execution_count": 35,
   "metadata": {},
   "outputs": [
    {
     "data": {
      "text/plain": [
       "Index(['EmployeeID', 'Job_History', 'Joining_Date', 'Designation', 'Sex'], dtype='object')"
      ]
     },
     "execution_count": 35,
     "metadata": {},
     "output_type": "execute_result"
    }
   ],
   "source": [
    "data_employee.columns"
   ]
  },
  {
   "cell_type": "code",
   "execution_count": 36,
   "metadata": {},
   "outputs": [
    {
     "data": {
      "text/plain": [
       "Index(['EmployeeID', 'TotalWorkingHours', 'Billable_Hours', 'Hours_off_Duty',\n",
       "       'Touring_Hours', 'NoOfProjects', 'ActualTimeSpent'],\n",
       "      dtype='object')"
      ]
     },
     "execution_count": 36,
     "metadata": {},
     "output_type": "execute_result"
    }
   ],
   "source": [
    "train_data_work.columns"
   ]
  },
  {
   "cell_type": "markdown",
   "metadata": {},
   "source": [
    "### Checking Shape"
   ]
  },
  {
   "cell_type": "code",
   "execution_count": 37,
   "metadata": {},
   "outputs": [
    {
     "name": "stdout",
     "output_type": "stream",
     "text": [
      "(245, 2)\n",
      "(3983, 7)\n",
      "(296, 5)\n"
     ]
    }
   ],
   "source": [
    "print(train_data_attr.shape)\n",
    "print(train_data_work.shape)\n",
    "print(data_employee.shape)"
   ]
  },
  {
   "cell_type": "code",
   "execution_count": 38,
   "metadata": {},
   "outputs": [
    {
     "data": {
      "text/html": [
       "<div>\n",
       "<style scoped>\n",
       "    .dataframe tbody tr th:only-of-type {\n",
       "        vertical-align: middle;\n",
       "    }\n",
       "\n",
       "    .dataframe tbody tr th {\n",
       "        vertical-align: top;\n",
       "    }\n",
       "\n",
       "    .dataframe thead th {\n",
       "        text-align: right;\n",
       "    }\n",
       "</style>\n",
       "<table border=\"1\" class=\"dataframe\">\n",
       "  <thead>\n",
       "    <tr style=\"text-align: right;\">\n",
       "      <th></th>\n",
       "      <th>EmployeeID</th>\n",
       "      <th>TotalWorkingHours</th>\n",
       "      <th>Billable_Hours</th>\n",
       "      <th>Hours_off_Duty</th>\n",
       "      <th>Touring_Hours</th>\n",
       "      <th>NoOfProjects</th>\n",
       "      <th>ActualTimeSpent</th>\n",
       "    </tr>\n",
       "  </thead>\n",
       "  <tbody>\n",
       "    <tr>\n",
       "      <th>0</th>\n",
       "      <td>emp-1</td>\n",
       "      <td>184.0</td>\n",
       "      <td>144.0</td>\n",
       "      <td>40.0</td>\n",
       "      <td>144.0</td>\n",
       "      <td>3</td>\n",
       "      <td>77</td>\n",
       "    </tr>\n",
       "    <tr>\n",
       "      <th>1</th>\n",
       "      <td>emp-1</td>\n",
       "      <td>176.0</td>\n",
       "      <td>136.0</td>\n",
       "      <td>40.0</td>\n",
       "      <td>136.0</td>\n",
       "      <td>2</td>\n",
       "      <td>98</td>\n",
       "    </tr>\n",
       "    <tr>\n",
       "      <th>2</th>\n",
       "      <td>emp-1</td>\n",
       "      <td>200.0</td>\n",
       "      <td>120.0</td>\n",
       "      <td>72.0</td>\n",
       "      <td>120.0</td>\n",
       "      <td>1</td>\n",
       "      <td>14</td>\n",
       "    </tr>\n",
       "    <tr>\n",
       "      <th>3</th>\n",
       "      <td>emp-1</td>\n",
       "      <td>160.0</td>\n",
       "      <td>144.0</td>\n",
       "      <td>8.0</td>\n",
       "      <td>144.0</td>\n",
       "      <td>3</td>\n",
       "      <td>147</td>\n",
       "    </tr>\n",
       "    <tr>\n",
       "      <th>4</th>\n",
       "      <td>emp-1</td>\n",
       "      <td>171.0</td>\n",
       "      <td>135.0</td>\n",
       "      <td>0.0</td>\n",
       "      <td>135.0</td>\n",
       "      <td>1</td>\n",
       "      <td>42</td>\n",
       "    </tr>\n",
       "  </tbody>\n",
       "</table>\n",
       "</div>"
      ],
      "text/plain": [
       "  EmployeeID  TotalWorkingHours  Billable_Hours  Hours_off_Duty  \\\n",
       "0      emp-1              184.0           144.0            40.0   \n",
       "1      emp-1              176.0           136.0            40.0   \n",
       "2      emp-1              200.0           120.0            72.0   \n",
       "3      emp-1              160.0           144.0             8.0   \n",
       "4      emp-1              171.0           135.0             0.0   \n",
       "\n",
       "   Touring_Hours  NoOfProjects  ActualTimeSpent  \n",
       "0          144.0             3               77  \n",
       "1          136.0             2               98  \n",
       "2          120.0             1               14  \n",
       "3          144.0             3              147  \n",
       "4          135.0             1               42  "
      ]
     },
     "execution_count": 38,
     "metadata": {},
     "output_type": "execute_result"
    }
   ],
   "source": [
    "train_data_work.head(5)"
   ]
  },
  {
   "cell_type": "code",
   "execution_count": 39,
   "metadata": {},
   "outputs": [
    {
     "name": "stdout",
     "output_type": "stream",
     "text": [
      "(245, 7)\n"
     ]
    },
    {
     "data": {
      "text/html": [
       "<div>\n",
       "<style scoped>\n",
       "    .dataframe tbody tr th:only-of-type {\n",
       "        vertical-align: middle;\n",
       "    }\n",
       "\n",
       "    .dataframe tbody tr th {\n",
       "        vertical-align: top;\n",
       "    }\n",
       "\n",
       "    .dataframe thead th {\n",
       "        text-align: right;\n",
       "    }\n",
       "</style>\n",
       "<table border=\"1\" class=\"dataframe\">\n",
       "  <thead>\n",
       "    <tr style=\"text-align: right;\">\n",
       "      <th></th>\n",
       "      <th>EmployeeID</th>\n",
       "      <th>TotalWorkingHours</th>\n",
       "      <th>Billable_Hours</th>\n",
       "      <th>Hours_off_Duty</th>\n",
       "      <th>Touring_Hours</th>\n",
       "      <th>NoOfProjects</th>\n",
       "      <th>ActualTimeSpent</th>\n",
       "    </tr>\n",
       "  </thead>\n",
       "  <tbody>\n",
       "    <tr>\n",
       "      <th>0</th>\n",
       "      <td>emp-1</td>\n",
       "      <td>3424.0</td>\n",
       "      <td>2462.0</td>\n",
       "      <td>408.0</td>\n",
       "      <td>2462.0</td>\n",
       "      <td>42</td>\n",
       "      <td>2849</td>\n",
       "    </tr>\n",
       "    <tr>\n",
       "      <th>1</th>\n",
       "      <td>emp-10</td>\n",
       "      <td>2006.0</td>\n",
       "      <td>1274.0</td>\n",
       "      <td>328.0</td>\n",
       "      <td>691.0</td>\n",
       "      <td>13</td>\n",
       "      <td>616</td>\n",
       "    </tr>\n",
       "    <tr>\n",
       "      <th>2</th>\n",
       "      <td>emp-100</td>\n",
       "      <td>3607.0</td>\n",
       "      <td>3275.0</td>\n",
       "      <td>224.0</td>\n",
       "      <td>3235.0</td>\n",
       "      <td>23</td>\n",
       "      <td>3388</td>\n",
       "    </tr>\n",
       "    <tr>\n",
       "      <th>3</th>\n",
       "      <td>emp-101</td>\n",
       "      <td>4109.5</td>\n",
       "      <td>2759.5</td>\n",
       "      <td>192.0</td>\n",
       "      <td>0.0</td>\n",
       "      <td>18</td>\n",
       "      <td>1953</td>\n",
       "    </tr>\n",
       "    <tr>\n",
       "      <th>4</th>\n",
       "      <td>emp-102</td>\n",
       "      <td>3790.0</td>\n",
       "      <td>2720.5</td>\n",
       "      <td>344.0</td>\n",
       "      <td>1861.0</td>\n",
       "      <td>20</td>\n",
       "      <td>2254</td>\n",
       "    </tr>\n",
       "  </tbody>\n",
       "</table>\n",
       "</div>"
      ],
      "text/plain": [
       "  EmployeeID  TotalWorkingHours  Billable_Hours  Hours_off_Duty  \\\n",
       "0      emp-1             3424.0          2462.0           408.0   \n",
       "1     emp-10             2006.0          1274.0           328.0   \n",
       "2    emp-100             3607.0          3275.0           224.0   \n",
       "3    emp-101             4109.5          2759.5           192.0   \n",
       "4    emp-102             3790.0          2720.5           344.0   \n",
       "\n",
       "   Touring_Hours  NoOfProjects  ActualTimeSpent  \n",
       "0         2462.0            42             2849  \n",
       "1          691.0            13              616  \n",
       "2         3235.0            23             3388  \n",
       "3            0.0            18             1953  \n",
       "4         1861.0            20             2254  "
      ]
     },
     "execution_count": 39,
     "metadata": {},
     "output_type": "execute_result"
    }
   ],
   "source": [
    "# There are duplicates in the train_data_work\n",
    "train_main = train_data_work.groupby('EmployeeID').sum().reset_index()\n",
    "print(train_main.shape)\n",
    "train_main.head(5)"
   ]
  },
  {
   "cell_type": "code",
   "execution_count": 40,
   "metadata": {},
   "outputs": [
    {
     "name": "stdout",
     "output_type": "stream",
     "text": [
      "(51, 7)\n"
     ]
    },
    {
     "data": {
      "text/html": [
       "<div>\n",
       "<style scoped>\n",
       "    .dataframe tbody tr th:only-of-type {\n",
       "        vertical-align: middle;\n",
       "    }\n",
       "\n",
       "    .dataframe tbody tr th {\n",
       "        vertical-align: top;\n",
       "    }\n",
       "\n",
       "    .dataframe thead th {\n",
       "        text-align: right;\n",
       "    }\n",
       "</style>\n",
       "<table border=\"1\" class=\"dataframe\">\n",
       "  <thead>\n",
       "    <tr style=\"text-align: right;\">\n",
       "      <th></th>\n",
       "      <th>EmployeeID</th>\n",
       "      <th>TotalWorkingHours</th>\n",
       "      <th>Billable_Hours</th>\n",
       "      <th>Hours_off_Duty</th>\n",
       "      <th>Touring_Hours</th>\n",
       "      <th>NoOfProjects</th>\n",
       "      <th>ActualTimeSpent</th>\n",
       "    </tr>\n",
       "  </thead>\n",
       "  <tbody>\n",
       "    <tr>\n",
       "      <th>0</th>\n",
       "      <td>emp-106</td>\n",
       "      <td>3309.5</td>\n",
       "      <td>2352.0</td>\n",
       "      <td>298.0</td>\n",
       "      <td>2.0</td>\n",
       "      <td>18</td>\n",
       "      <td>1736</td>\n",
       "    </tr>\n",
       "    <tr>\n",
       "      <th>1</th>\n",
       "      <td>emp-112</td>\n",
       "      <td>3178.5</td>\n",
       "      <td>2610.0</td>\n",
       "      <td>292.0</td>\n",
       "      <td>325.0</td>\n",
       "      <td>21</td>\n",
       "      <td>1708</td>\n",
       "    </tr>\n",
       "    <tr>\n",
       "      <th>2</th>\n",
       "      <td>emp-114</td>\n",
       "      <td>3072.5</td>\n",
       "      <td>1618.7</td>\n",
       "      <td>264.0</td>\n",
       "      <td>1104.0</td>\n",
       "      <td>25</td>\n",
       "      <td>882</td>\n",
       "    </tr>\n",
       "    <tr>\n",
       "      <th>3</th>\n",
       "      <td>emp-118</td>\n",
       "      <td>2400.0</td>\n",
       "      <td>2008.0</td>\n",
       "      <td>146.0</td>\n",
       "      <td>728.0</td>\n",
       "      <td>18</td>\n",
       "      <td>1526</td>\n",
       "    </tr>\n",
       "    <tr>\n",
       "      <th>4</th>\n",
       "      <td>emp-12</td>\n",
       "      <td>4491.0</td>\n",
       "      <td>2653.0</td>\n",
       "      <td>601.0</td>\n",
       "      <td>799.0</td>\n",
       "      <td>31</td>\n",
       "      <td>1883</td>\n",
       "    </tr>\n",
       "  </tbody>\n",
       "</table>\n",
       "</div>"
      ],
      "text/plain": [
       "  EmployeeID  TotalWorkingHours  Billable_Hours  Hours_off_Duty  \\\n",
       "0    emp-106             3309.5          2352.0           298.0   \n",
       "1    emp-112             3178.5          2610.0           292.0   \n",
       "2    emp-114             3072.5          1618.7           264.0   \n",
       "3    emp-118             2400.0          2008.0           146.0   \n",
       "4     emp-12             4491.0          2653.0           601.0   \n",
       "\n",
       "   Touring_Hours  NoOfProjects  ActualTimeSpent  \n",
       "0            2.0            18             1736  \n",
       "1          325.0            21             1708  \n",
       "2         1104.0            25              882  \n",
       "3          728.0            18             1526  \n",
       "4          799.0            31             1883  "
      ]
     },
     "execution_count": 40,
     "metadata": {},
     "output_type": "execute_result"
    }
   ],
   "source": [
    "# There are duplicates in test_data_work\n",
    "test_main = test_data_work.groupby('EmployeeID').sum().reset_index()\n",
    "print(test_main.shape)\n",
    "test_main.head(5)"
   ]
  },
  {
   "cell_type": "markdown",
   "metadata": {},
   "source": [
    "## Merging Train data"
   ]
  },
  {
   "cell_type": "code",
   "execution_count": 41,
   "metadata": {},
   "outputs": [
    {
     "name": "stdout",
     "output_type": "stream",
     "text": [
      "(245, 8)\n"
     ]
    }
   ],
   "source": [
    "train_data1= pd.merge(train_main, train_data_attr, how=\"left\", on=\"EmployeeID\")\n",
    "print(train_data1.shape)"
   ]
  },
  {
   "cell_type": "code",
   "execution_count": 42,
   "metadata": {},
   "outputs": [
    {
     "data": {
      "text/html": [
       "<div>\n",
       "<style scoped>\n",
       "    .dataframe tbody tr th:only-of-type {\n",
       "        vertical-align: middle;\n",
       "    }\n",
       "\n",
       "    .dataframe tbody tr th {\n",
       "        vertical-align: top;\n",
       "    }\n",
       "\n",
       "    .dataframe thead th {\n",
       "        text-align: right;\n",
       "    }\n",
       "</style>\n",
       "<table border=\"1\" class=\"dataframe\">\n",
       "  <thead>\n",
       "    <tr style=\"text-align: right;\">\n",
       "      <th></th>\n",
       "      <th>EmployeeID</th>\n",
       "      <th>TotalWorkingHours</th>\n",
       "      <th>Billable_Hours</th>\n",
       "      <th>Hours_off_Duty</th>\n",
       "      <th>Touring_Hours</th>\n",
       "      <th>NoOfProjects</th>\n",
       "      <th>ActualTimeSpent</th>\n",
       "      <th>Left_Company</th>\n",
       "    </tr>\n",
       "  </thead>\n",
       "  <tbody>\n",
       "    <tr>\n",
       "      <th>0</th>\n",
       "      <td>emp-1</td>\n",
       "      <td>3424.0</td>\n",
       "      <td>2462.0</td>\n",
       "      <td>408.0</td>\n",
       "      <td>2462.0</td>\n",
       "      <td>42</td>\n",
       "      <td>2849</td>\n",
       "      <td>0.0</td>\n",
       "    </tr>\n",
       "    <tr>\n",
       "      <th>1</th>\n",
       "      <td>emp-10</td>\n",
       "      <td>2006.0</td>\n",
       "      <td>1274.0</td>\n",
       "      <td>328.0</td>\n",
       "      <td>691.0</td>\n",
       "      <td>13</td>\n",
       "      <td>616</td>\n",
       "      <td>1.0</td>\n",
       "    </tr>\n",
       "    <tr>\n",
       "      <th>2</th>\n",
       "      <td>emp-100</td>\n",
       "      <td>3607.0</td>\n",
       "      <td>3275.0</td>\n",
       "      <td>224.0</td>\n",
       "      <td>3235.0</td>\n",
       "      <td>23</td>\n",
       "      <td>3388</td>\n",
       "      <td>0.0</td>\n",
       "    </tr>\n",
       "    <tr>\n",
       "      <th>3</th>\n",
       "      <td>emp-101</td>\n",
       "      <td>4109.5</td>\n",
       "      <td>2759.5</td>\n",
       "      <td>192.0</td>\n",
       "      <td>0.0</td>\n",
       "      <td>18</td>\n",
       "      <td>1953</td>\n",
       "      <td>0.0</td>\n",
       "    </tr>\n",
       "    <tr>\n",
       "      <th>4</th>\n",
       "      <td>emp-102</td>\n",
       "      <td>3790.0</td>\n",
       "      <td>2720.5</td>\n",
       "      <td>344.0</td>\n",
       "      <td>1861.0</td>\n",
       "      <td>20</td>\n",
       "      <td>2254</td>\n",
       "      <td>0.0</td>\n",
       "    </tr>\n",
       "  </tbody>\n",
       "</table>\n",
       "</div>"
      ],
      "text/plain": [
       "  EmployeeID  TotalWorkingHours  Billable_Hours  Hours_off_Duty  \\\n",
       "0      emp-1             3424.0          2462.0           408.0   \n",
       "1     emp-10             2006.0          1274.0           328.0   \n",
       "2    emp-100             3607.0          3275.0           224.0   \n",
       "3    emp-101             4109.5          2759.5           192.0   \n",
       "4    emp-102             3790.0          2720.5           344.0   \n",
       "\n",
       "   Touring_Hours  NoOfProjects  ActualTimeSpent  Left_Company  \n",
       "0         2462.0            42             2849           0.0  \n",
       "1          691.0            13              616           1.0  \n",
       "2         3235.0            23             3388           0.0  \n",
       "3            0.0            18             1953           0.0  \n",
       "4         1861.0            20             2254           0.0  "
      ]
     },
     "execution_count": 42,
     "metadata": {},
     "output_type": "execute_result"
    }
   ],
   "source": [
    "train_data1.head(5)"
   ]
  },
  {
   "cell_type": "code",
   "execution_count": 43,
   "metadata": {},
   "outputs": [
    {
     "name": "stdout",
     "output_type": "stream",
     "text": [
      "(245, 12)\n"
     ]
    }
   ],
   "source": [
    "train_data = pd.merge(train_data1,data_employee, how=\"left\",on=\"EmployeeID\")\n",
    "print(train_data.shape)"
   ]
  },
  {
   "cell_type": "code",
   "execution_count": 44,
   "metadata": {},
   "outputs": [
    {
     "data": {
      "text/html": [
       "<div>\n",
       "<style scoped>\n",
       "    .dataframe tbody tr th:only-of-type {\n",
       "        vertical-align: middle;\n",
       "    }\n",
       "\n",
       "    .dataframe tbody tr th {\n",
       "        vertical-align: top;\n",
       "    }\n",
       "\n",
       "    .dataframe thead th {\n",
       "        text-align: right;\n",
       "    }\n",
       "</style>\n",
       "<table border=\"1\" class=\"dataframe\">\n",
       "  <thead>\n",
       "    <tr style=\"text-align: right;\">\n",
       "      <th></th>\n",
       "      <th>EmployeeID</th>\n",
       "      <th>TotalWorkingHours</th>\n",
       "      <th>Billable_Hours</th>\n",
       "      <th>Hours_off_Duty</th>\n",
       "      <th>Touring_Hours</th>\n",
       "      <th>NoOfProjects</th>\n",
       "      <th>ActualTimeSpent</th>\n",
       "      <th>Left_Company</th>\n",
       "      <th>Job_History</th>\n",
       "      <th>Joining_Date</th>\n",
       "      <th>Designation</th>\n",
       "      <th>Sex</th>\n",
       "    </tr>\n",
       "  </thead>\n",
       "  <tbody>\n",
       "    <tr>\n",
       "      <th>0</th>\n",
       "      <td>emp-1</td>\n",
       "      <td>3424.000000</td>\n",
       "      <td>2462.000000</td>\n",
       "      <td>408.0</td>\n",
       "      <td>2462.000000</td>\n",
       "      <td>42</td>\n",
       "      <td>2849</td>\n",
       "      <td>0.0</td>\n",
       "      <td>Worked at Company - 639 , Company - 212 , Comp...</td>\n",
       "      <td>2011_01</td>\n",
       "      <td>MD</td>\n",
       "      <td>1</td>\n",
       "    </tr>\n",
       "    <tr>\n",
       "      <th>1</th>\n",
       "      <td>emp-10</td>\n",
       "      <td>2006.000000</td>\n",
       "      <td>1274.000000</td>\n",
       "      <td>328.0</td>\n",
       "      <td>691.000000</td>\n",
       "      <td>13</td>\n",
       "      <td>616</td>\n",
       "      <td>1.0</td>\n",
       "      <td>Worked at Company - 816 , Company - 724 , Comp...</td>\n",
       "      <td>2006_02</td>\n",
       "      <td>VP</td>\n",
       "      <td>0</td>\n",
       "    </tr>\n",
       "    <tr>\n",
       "      <th>2</th>\n",
       "      <td>emp-100</td>\n",
       "      <td>3607.000000</td>\n",
       "      <td>3275.000000</td>\n",
       "      <td>224.0</td>\n",
       "      <td>3235.000000</td>\n",
       "      <td>23</td>\n",
       "      <td>3388</td>\n",
       "      <td>0.0</td>\n",
       "      <td>Worked at Company - 562 , Company - 319</td>\n",
       "      <td>2011_12</td>\n",
       "      <td>Senior</td>\n",
       "      <td>1</td>\n",
       "    </tr>\n",
       "    <tr>\n",
       "      <th>3</th>\n",
       "      <td>emp-101</td>\n",
       "      <td>4109.500000</td>\n",
       "      <td>2759.500000</td>\n",
       "      <td>192.0</td>\n",
       "      <td>0.000000</td>\n",
       "      <td>18</td>\n",
       "      <td>1953</td>\n",
       "      <td>0.0</td>\n",
       "      <td>Worked at Company - 212 , Company - 668 , Comp...</td>\n",
       "      <td>2012_01</td>\n",
       "      <td>Senior</td>\n",
       "      <td>1</td>\n",
       "    </tr>\n",
       "    <tr>\n",
       "      <th>4</th>\n",
       "      <td>emp-102</td>\n",
       "      <td>3790.000000</td>\n",
       "      <td>2720.500000</td>\n",
       "      <td>344.0</td>\n",
       "      <td>1861.000000</td>\n",
       "      <td>20</td>\n",
       "      <td>2254</td>\n",
       "      <td>0.0</td>\n",
       "      <td>Worked at Company - 234</td>\n",
       "      <td>2011_12</td>\n",
       "      <td>Senior</td>\n",
       "      <td>1</td>\n",
       "    </tr>\n",
       "    <tr>\n",
       "      <th>5</th>\n",
       "      <td>emp-103</td>\n",
       "      <td>3191.500000</td>\n",
       "      <td>2797.000000</td>\n",
       "      <td>213.0</td>\n",
       "      <td>2797.000000</td>\n",
       "      <td>20</td>\n",
       "      <td>2366</td>\n",
       "      <td>0.0</td>\n",
       "      <td>Worked at Company - 165 , Company - 597 , Comp...</td>\n",
       "      <td>2011_12</td>\n",
       "      <td>Senior</td>\n",
       "      <td>1</td>\n",
       "    </tr>\n",
       "    <tr>\n",
       "      <th>6</th>\n",
       "      <td>emp-104</td>\n",
       "      <td>3906.000000</td>\n",
       "      <td>3279.000000</td>\n",
       "      <td>256.0</td>\n",
       "      <td>3006.000000</td>\n",
       "      <td>24</td>\n",
       "      <td>1715</td>\n",
       "      <td>0.0</td>\n",
       "      <td>Worked at Company - 258</td>\n",
       "      <td>2011_12</td>\n",
       "      <td>Senior</td>\n",
       "      <td>1</td>\n",
       "    </tr>\n",
       "    <tr>\n",
       "      <th>7</th>\n",
       "      <td>emp-105</td>\n",
       "      <td>3301.000000</td>\n",
       "      <td>2169.000000</td>\n",
       "      <td>198.0</td>\n",
       "      <td>1203.000000</td>\n",
       "      <td>18</td>\n",
       "      <td>553</td>\n",
       "      <td>0.0</td>\n",
       "      <td>Worked at Company - 780 , Company - 703</td>\n",
       "      <td>2012_01</td>\n",
       "      <td>VP</td>\n",
       "      <td>1</td>\n",
       "    </tr>\n",
       "    <tr>\n",
       "      <th>8</th>\n",
       "      <td>emp-107</td>\n",
       "      <td>2241.500000</td>\n",
       "      <td>798.000000</td>\n",
       "      <td>196.0</td>\n",
       "      <td>798.000000</td>\n",
       "      <td>7</td>\n",
       "      <td>245</td>\n",
       "      <td>0.0</td>\n",
       "      <td>Worked at Company - 99 , Company - 569 , Compa...</td>\n",
       "      <td>2012_02</td>\n",
       "      <td>EVP</td>\n",
       "      <td>1</td>\n",
       "    </tr>\n",
       "    <tr>\n",
       "      <th>9</th>\n",
       "      <td>emp-108</td>\n",
       "      <td>2715.599998</td>\n",
       "      <td>1059.099998</td>\n",
       "      <td>316.0</td>\n",
       "      <td>0.000000</td>\n",
       "      <td>10</td>\n",
       "      <td>735</td>\n",
       "      <td>1.0</td>\n",
       "      <td>Worked at Company - 205 , Company - 373 , Comp...</td>\n",
       "      <td>2012_01</td>\n",
       "      <td>VP</td>\n",
       "      <td>1</td>\n",
       "    </tr>\n",
       "    <tr>\n",
       "      <th>10</th>\n",
       "      <td>emp-109</td>\n",
       "      <td>2994.500000</td>\n",
       "      <td>2508.000000</td>\n",
       "      <td>276.0</td>\n",
       "      <td>2508.000000</td>\n",
       "      <td>16</td>\n",
       "      <td>2954</td>\n",
       "      <td>0.0</td>\n",
       "      <td>Worked at Company - 13 , Company - 461 , Compa...</td>\n",
       "      <td>2012_02</td>\n",
       "      <td>Senior</td>\n",
       "      <td>1</td>\n",
       "    </tr>\n",
       "    <tr>\n",
       "      <th>11</th>\n",
       "      <td>emp-11</td>\n",
       "      <td>3955.000000</td>\n",
       "      <td>3089.000000</td>\n",
       "      <td>343.0</td>\n",
       "      <td>729.000000</td>\n",
       "      <td>27</td>\n",
       "      <td>1400</td>\n",
       "      <td>0.0</td>\n",
       "      <td>Worked at Company - 521 , Company - 304 , Comp...</td>\n",
       "      <td>2007_07</td>\n",
       "      <td>Junior</td>\n",
       "      <td>1</td>\n",
       "    </tr>\n",
       "    <tr>\n",
       "      <th>12</th>\n",
       "      <td>emp-110</td>\n",
       "      <td>3053.300000</td>\n",
       "      <td>2168.700000</td>\n",
       "      <td>278.0</td>\n",
       "      <td>413.000000</td>\n",
       "      <td>30</td>\n",
       "      <td>1134</td>\n",
       "      <td>0.0</td>\n",
       "      <td>Worked at Company - 750</td>\n",
       "      <td>2012_02</td>\n",
       "      <td>Senior</td>\n",
       "      <td>1</td>\n",
       "    </tr>\n",
       "    <tr>\n",
       "      <th>13</th>\n",
       "      <td>emp-111</td>\n",
       "      <td>2949.000000</td>\n",
       "      <td>1923.500000</td>\n",
       "      <td>257.0</td>\n",
       "      <td>1225.000000</td>\n",
       "      <td>15</td>\n",
       "      <td>1022</td>\n",
       "      <td>0.0</td>\n",
       "      <td>Worked at Company - 790 , Company - 151 , Comp...</td>\n",
       "      <td>2012_02</td>\n",
       "      <td>Senior</td>\n",
       "      <td>1</td>\n",
       "    </tr>\n",
       "    <tr>\n",
       "      <th>14</th>\n",
       "      <td>emp-113</td>\n",
       "      <td>2558.000000</td>\n",
       "      <td>1201.500000</td>\n",
       "      <td>296.0</td>\n",
       "      <td>1201.500000</td>\n",
       "      <td>11</td>\n",
       "      <td>749</td>\n",
       "      <td>0.0</td>\n",
       "      <td>Worked at Company - 296 , Company - 211 , Comp...</td>\n",
       "      <td>2012_02</td>\n",
       "      <td>VP</td>\n",
       "      <td>1</td>\n",
       "    </tr>\n",
       "    <tr>\n",
       "      <th>15</th>\n",
       "      <td>emp-115</td>\n",
       "      <td>1986.299999</td>\n",
       "      <td>1091.299999</td>\n",
       "      <td>212.0</td>\n",
       "      <td>444.299999</td>\n",
       "      <td>11</td>\n",
       "      <td>539</td>\n",
       "      <td>1.0</td>\n",
       "      <td>Worked at Company - 690 , Company - 280 , Comp...</td>\n",
       "      <td>2012_02</td>\n",
       "      <td>Senior</td>\n",
       "      <td>1</td>\n",
       "    </tr>\n",
       "    <tr>\n",
       "      <th>16</th>\n",
       "      <td>emp-116</td>\n",
       "      <td>2519.000000</td>\n",
       "      <td>1947.000000</td>\n",
       "      <td>278.0</td>\n",
       "      <td>552.000000</td>\n",
       "      <td>18</td>\n",
       "      <td>1995</td>\n",
       "      <td>0.0</td>\n",
       "      <td>Worked at Company - 695</td>\n",
       "      <td>2012_02</td>\n",
       "      <td>EVP</td>\n",
       "      <td>1</td>\n",
       "    </tr>\n",
       "    <tr>\n",
       "      <th>17</th>\n",
       "      <td>emp-117</td>\n",
       "      <td>2858.300000</td>\n",
       "      <td>1303.000000</td>\n",
       "      <td>224.0</td>\n",
       "      <td>1303.000000</td>\n",
       "      <td>11</td>\n",
       "      <td>763</td>\n",
       "      <td>0.0</td>\n",
       "      <td>Worked at Company - 658</td>\n",
       "      <td>2012_02</td>\n",
       "      <td>VP</td>\n",
       "      <td>1</td>\n",
       "    </tr>\n",
       "    <tr>\n",
       "      <th>18</th>\n",
       "      <td>emp-119</td>\n",
       "      <td>2558.500000</td>\n",
       "      <td>2093.000000</td>\n",
       "      <td>216.0</td>\n",
       "      <td>0.000000</td>\n",
       "      <td>15</td>\n",
       "      <td>2044</td>\n",
       "      <td>0.0</td>\n",
       "      <td>Worked at Company - 660</td>\n",
       "      <td>2012_04</td>\n",
       "      <td>Senior</td>\n",
       "      <td>1</td>\n",
       "    </tr>\n",
       "    <tr>\n",
       "      <th>19</th>\n",
       "      <td>emp-120</td>\n",
       "      <td>2486.000000</td>\n",
       "      <td>1790.000000</td>\n",
       "      <td>254.0</td>\n",
       "      <td>648.000000</td>\n",
       "      <td>19</td>\n",
       "      <td>847</td>\n",
       "      <td>0.0</td>\n",
       "      <td>Worked at Company - 795</td>\n",
       "      <td>2012_03</td>\n",
       "      <td>VP</td>\n",
       "      <td>1</td>\n",
       "    </tr>\n",
       "    <tr>\n",
       "      <th>20</th>\n",
       "      <td>emp-122</td>\n",
       "      <td>1604.000000</td>\n",
       "      <td>932.000000</td>\n",
       "      <td>224.0</td>\n",
       "      <td>932.000000</td>\n",
       "      <td>7</td>\n",
       "      <td>511</td>\n",
       "      <td>0.0</td>\n",
       "      <td>Worked at Company - 346 , Company - 108</td>\n",
       "      <td>2012_03</td>\n",
       "      <td>VP</td>\n",
       "      <td>1</td>\n",
       "    </tr>\n",
       "    <tr>\n",
       "      <th>21</th>\n",
       "      <td>emp-123</td>\n",
       "      <td>2920.500000</td>\n",
       "      <td>2530.500000</td>\n",
       "      <td>206.0</td>\n",
       "      <td>0.000000</td>\n",
       "      <td>19</td>\n",
       "      <td>2016</td>\n",
       "      <td>0.0</td>\n",
       "      <td>Worked at Company - 643</td>\n",
       "      <td>2012_04</td>\n",
       "      <td>Senior</td>\n",
       "      <td>1</td>\n",
       "    </tr>\n",
       "    <tr>\n",
       "      <th>22</th>\n",
       "      <td>emp-125</td>\n",
       "      <td>2388.000000</td>\n",
       "      <td>1958.000000</td>\n",
       "      <td>160.0</td>\n",
       "      <td>0.000000</td>\n",
       "      <td>14</td>\n",
       "      <td>1813</td>\n",
       "      <td>0.0</td>\n",
       "      <td>Worked at Company - 581</td>\n",
       "      <td>2012_05</td>\n",
       "      <td>Senior</td>\n",
       "      <td>1</td>\n",
       "    </tr>\n",
       "    <tr>\n",
       "      <th>23</th>\n",
       "      <td>emp-126</td>\n",
       "      <td>2680.000000</td>\n",
       "      <td>1568.000000</td>\n",
       "      <td>136.0</td>\n",
       "      <td>21.000000</td>\n",
       "      <td>14</td>\n",
       "      <td>1239</td>\n",
       "      <td>0.0</td>\n",
       "      <td>Worked at Company - 317 , Company - 875 , Comp...</td>\n",
       "      <td>2012_05</td>\n",
       "      <td>VP</td>\n",
       "      <td>1</td>\n",
       "    </tr>\n",
       "    <tr>\n",
       "      <th>24</th>\n",
       "      <td>emp-127</td>\n",
       "      <td>2514.500000</td>\n",
       "      <td>2248.500000</td>\n",
       "      <td>168.0</td>\n",
       "      <td>953.500000</td>\n",
       "      <td>17</td>\n",
       "      <td>1274</td>\n",
       "      <td>0.0</td>\n",
       "      <td>Worked at Company - 688 , Company - 448 , Comp...</td>\n",
       "      <td>2012_04</td>\n",
       "      <td>Junior</td>\n",
       "      <td>1</td>\n",
       "    </tr>\n",
       "  </tbody>\n",
       "</table>\n",
       "</div>"
      ],
      "text/plain": [
       "   EmployeeID  TotalWorkingHours  Billable_Hours  Hours_off_Duty  \\\n",
       "0       emp-1        3424.000000     2462.000000           408.0   \n",
       "1      emp-10        2006.000000     1274.000000           328.0   \n",
       "2     emp-100        3607.000000     3275.000000           224.0   \n",
       "3     emp-101        4109.500000     2759.500000           192.0   \n",
       "4     emp-102        3790.000000     2720.500000           344.0   \n",
       "5     emp-103        3191.500000     2797.000000           213.0   \n",
       "6     emp-104        3906.000000     3279.000000           256.0   \n",
       "7     emp-105        3301.000000     2169.000000           198.0   \n",
       "8     emp-107        2241.500000      798.000000           196.0   \n",
       "9     emp-108        2715.599998     1059.099998           316.0   \n",
       "10    emp-109        2994.500000     2508.000000           276.0   \n",
       "11     emp-11        3955.000000     3089.000000           343.0   \n",
       "12    emp-110        3053.300000     2168.700000           278.0   \n",
       "13    emp-111        2949.000000     1923.500000           257.0   \n",
       "14    emp-113        2558.000000     1201.500000           296.0   \n",
       "15    emp-115        1986.299999     1091.299999           212.0   \n",
       "16    emp-116        2519.000000     1947.000000           278.0   \n",
       "17    emp-117        2858.300000     1303.000000           224.0   \n",
       "18    emp-119        2558.500000     2093.000000           216.0   \n",
       "19    emp-120        2486.000000     1790.000000           254.0   \n",
       "20    emp-122        1604.000000      932.000000           224.0   \n",
       "21    emp-123        2920.500000     2530.500000           206.0   \n",
       "22    emp-125        2388.000000     1958.000000           160.0   \n",
       "23    emp-126        2680.000000     1568.000000           136.0   \n",
       "24    emp-127        2514.500000     2248.500000           168.0   \n",
       "\n",
       "    Touring_Hours  NoOfProjects  ActualTimeSpent  Left_Company  \\\n",
       "0     2462.000000            42             2849           0.0   \n",
       "1      691.000000            13              616           1.0   \n",
       "2     3235.000000            23             3388           0.0   \n",
       "3        0.000000            18             1953           0.0   \n",
       "4     1861.000000            20             2254           0.0   \n",
       "5     2797.000000            20             2366           0.0   \n",
       "6     3006.000000            24             1715           0.0   \n",
       "7     1203.000000            18              553           0.0   \n",
       "8      798.000000             7              245           0.0   \n",
       "9        0.000000            10              735           1.0   \n",
       "10    2508.000000            16             2954           0.0   \n",
       "11     729.000000            27             1400           0.0   \n",
       "12     413.000000            30             1134           0.0   \n",
       "13    1225.000000            15             1022           0.0   \n",
       "14    1201.500000            11              749           0.0   \n",
       "15     444.299999            11              539           1.0   \n",
       "16     552.000000            18             1995           0.0   \n",
       "17    1303.000000            11              763           0.0   \n",
       "18       0.000000            15             2044           0.0   \n",
       "19     648.000000            19              847           0.0   \n",
       "20     932.000000             7              511           0.0   \n",
       "21       0.000000            19             2016           0.0   \n",
       "22       0.000000            14             1813           0.0   \n",
       "23      21.000000            14             1239           0.0   \n",
       "24     953.500000            17             1274           0.0   \n",
       "\n",
       "                                          Job_History Joining_Date  \\\n",
       "0   Worked at Company - 639 , Company - 212 , Comp...      2011_01   \n",
       "1   Worked at Company - 816 , Company - 724 , Comp...      2006_02   \n",
       "2             Worked at Company - 562 , Company - 319      2011_12   \n",
       "3   Worked at Company - 212 , Company - 668 , Comp...      2012_01   \n",
       "4                             Worked at Company - 234      2011_12   \n",
       "5   Worked at Company - 165 , Company - 597 , Comp...      2011_12   \n",
       "6                             Worked at Company - 258      2011_12   \n",
       "7             Worked at Company - 780 , Company - 703      2012_01   \n",
       "8   Worked at Company - 99 , Company - 569 , Compa...      2012_02   \n",
       "9   Worked at Company - 205 , Company - 373 , Comp...      2012_01   \n",
       "10  Worked at Company - 13 , Company - 461 , Compa...      2012_02   \n",
       "11  Worked at Company - 521 , Company - 304 , Comp...      2007_07   \n",
       "12                            Worked at Company - 750      2012_02   \n",
       "13  Worked at Company - 790 , Company - 151 , Comp...      2012_02   \n",
       "14  Worked at Company - 296 , Company - 211 , Comp...      2012_02   \n",
       "15  Worked at Company - 690 , Company - 280 , Comp...      2012_02   \n",
       "16                            Worked at Company - 695      2012_02   \n",
       "17                            Worked at Company - 658      2012_02   \n",
       "18                            Worked at Company - 660      2012_04   \n",
       "19                            Worked at Company - 795      2012_03   \n",
       "20            Worked at Company - 346 , Company - 108      2012_03   \n",
       "21                            Worked at Company - 643      2012_04   \n",
       "22                            Worked at Company - 581      2012_05   \n",
       "23  Worked at Company - 317 , Company - 875 , Comp...      2012_05   \n",
       "24  Worked at Company - 688 , Company - 448 , Comp...      2012_04   \n",
       "\n",
       "   Designation  Sex  \n",
       "0           MD    1  \n",
       "1           VP    0  \n",
       "2       Senior    1  \n",
       "3       Senior    1  \n",
       "4       Senior    1  \n",
       "5       Senior    1  \n",
       "6       Senior    1  \n",
       "7           VP    1  \n",
       "8          EVP    1  \n",
       "9           VP    1  \n",
       "10      Senior    1  \n",
       "11      Junior    1  \n",
       "12      Senior    1  \n",
       "13      Senior    1  \n",
       "14          VP    1  \n",
       "15      Senior    1  \n",
       "16         EVP    1  \n",
       "17          VP    1  \n",
       "18      Senior    1  \n",
       "19          VP    1  \n",
       "20          VP    1  \n",
       "21      Senior    1  \n",
       "22      Senior    1  \n",
       "23          VP    1  \n",
       "24      Junior    1  "
      ]
     },
     "execution_count": 44,
     "metadata": {},
     "output_type": "execute_result"
    }
   ],
   "source": [
    "train_data.head(25)"
   ]
  },
  {
   "cell_type": "markdown",
   "metadata": {},
   "source": [
    "### Train columns"
   ]
  },
  {
   "cell_type": "code",
   "execution_count": 45,
   "metadata": {},
   "outputs": [
    {
     "data": {
      "text/plain": [
       "Index(['EmployeeID', 'TotalWorkingHours', 'Billable_Hours', 'Hours_off_Duty',\n",
       "       'Touring_Hours', 'NoOfProjects', 'ActualTimeSpent', 'Left_Company',\n",
       "       'Job_History', 'Joining_Date', 'Designation', 'Sex'],\n",
       "      dtype='object')"
      ]
     },
     "execution_count": 45,
     "metadata": {},
     "output_type": "execute_result"
    }
   ],
   "source": [
    "train_data.columns"
   ]
  },
  {
   "cell_type": "markdown",
   "metadata": {},
   "source": [
    "### Train shape"
   ]
  },
  {
   "cell_type": "code",
   "execution_count": 46,
   "metadata": {},
   "outputs": [
    {
     "data": {
      "text/plain": [
       "(245, 12)"
      ]
     },
     "execution_count": 46,
     "metadata": {},
     "output_type": "execute_result"
    }
   ],
   "source": [
    "train_data.shape"
   ]
  },
  {
   "cell_type": "markdown",
   "metadata": {},
   "source": [
    "### Extracting Year & month"
   ]
  },
  {
   "cell_type": "code",
   "execution_count": 47,
   "metadata": {},
   "outputs": [],
   "source": [
    "import datetime"
   ]
  },
  {
   "cell_type": "code",
   "execution_count": 48,
   "metadata": {},
   "outputs": [],
   "source": [
    "# df['month'] = pd.DatetimeIndex(df['birth_date']).month\n",
    "#train_data['month'] = pd.DatetimeIndex(train_data['Joining_Date']).month"
   ]
  },
  {
   "cell_type": "code",
   "execution_count": 49,
   "metadata": {},
   "outputs": [],
   "source": [
    "# df['year'] = pd.DatetimeIndex(df['birth_date']).year\n",
    "#train_data['year'] = pd.DatetimeIndex(train_data['Joining_Date']).year"
   ]
  },
  {
   "cell_type": "markdown",
   "metadata": {},
   "source": [
    "### Checking for Null Values"
   ]
  },
  {
   "cell_type": "code",
   "execution_count": 50,
   "metadata": {},
   "outputs": [
    {
     "data": {
      "text/plain": [
       "EmployeeID           0\n",
       "TotalWorkingHours    0\n",
       "Billable_Hours       0\n",
       "Hours_off_Duty       0\n",
       "Touring_Hours        0\n",
       "NoOfProjects         0\n",
       "ActualTimeSpent      0\n",
       "Left_Company         0\n",
       "Job_History          0\n",
       "Joining_Date         0\n",
       "Designation          0\n",
       "Sex                  0\n",
       "dtype: int64"
      ]
     },
     "execution_count": 50,
     "metadata": {},
     "output_type": "execute_result"
    }
   ],
   "source": [
    "train_data.isnull().sum()"
   ]
  },
  {
   "cell_type": "markdown",
   "metadata": {},
   "source": [
    "### Checking Train Data types"
   ]
  },
  {
   "cell_type": "code",
   "execution_count": 51,
   "metadata": {},
   "outputs": [
    {
     "data": {
      "text/plain": [
       "EmployeeID            object\n",
       "TotalWorkingHours    float64\n",
       "Billable_Hours       float64\n",
       "Hours_off_Duty       float64\n",
       "Touring_Hours        float64\n",
       "NoOfProjects           int64\n",
       "ActualTimeSpent        int64\n",
       "Left_Company         float64\n",
       "Job_History           object\n",
       "Joining_Date          object\n",
       "Designation           object\n",
       "Sex                    int64\n",
       "dtype: object"
      ]
     },
     "execution_count": 51,
     "metadata": {},
     "output_type": "execute_result"
    }
   ],
   "source": [
    "train_data.dtypes"
   ]
  },
  {
   "cell_type": "code",
   "execution_count": 52,
   "metadata": {},
   "outputs": [],
   "source": [
    "cat_data = list(train_data.select_dtypes(include=['object']).columns)"
   ]
  },
  {
   "cell_type": "code",
   "execution_count": 53,
   "metadata": {},
   "outputs": [
    {
     "data": {
      "text/plain": [
       "245"
      ]
     },
     "execution_count": 53,
     "metadata": {},
     "output_type": "execute_result"
    }
   ],
   "source": [
    "train_data['Job_History'].nunique()"
   ]
  },
  {
   "cell_type": "code",
   "execution_count": 54,
   "metadata": {},
   "outputs": [
    {
     "data": {
      "text/plain": [
       "5"
      ]
     },
     "execution_count": 54,
     "metadata": {},
     "output_type": "execute_result"
    }
   ],
   "source": [
    "train_data['Designation'].nunique()"
   ]
  },
  {
   "cell_type": "code",
   "execution_count": 55,
   "metadata": {},
   "outputs": [
    {
     "data": {
      "text/plain": [
       "Junior    79\n",
       "VP        63\n",
       "Senior    63\n",
       "EVP       28\n",
       "MD        12\n",
       "Name: Designation, dtype: int64"
      ]
     },
     "execution_count": 55,
     "metadata": {},
     "output_type": "execute_result"
    }
   ],
   "source": [
    "train_data['Designation'].value_counts()"
   ]
  },
  {
   "cell_type": "code",
   "execution_count": 56,
   "metadata": {},
   "outputs": [],
   "source": [
    "num_data = list(train_data.select_dtypes(include=['int64', 'float64']).columns)"
   ]
  },
  {
   "cell_type": "code",
   "execution_count": 57,
   "metadata": {},
   "outputs": [],
   "source": [
    "cat_data = ['Designation', 'sex']"
   ]
  },
  {
   "cell_type": "code",
   "execution_count": 63,
   "metadata": {},
   "outputs": [],
   "source": [
    "#for col in cat_data:\n",
    "   # train_data[col] = train_data[col].astype('category')"
   ]
  },
  {
   "cell_type": "code",
   "execution_count": 64,
   "metadata": {},
   "outputs": [],
   "source": [
    "train_data['EmployeeID'] = train_data['EmployeeID'].astype('category')"
   ]
  },
  {
   "cell_type": "code",
   "execution_count": 65,
   "metadata": {},
   "outputs": [],
   "source": [
    "train_data['Joining_Date'] = train_data['Joining_Date'].astype('category')"
   ]
  },
  {
   "cell_type": "code",
   "execution_count": 66,
   "metadata": {},
   "outputs": [
    {
     "data": {
      "text/plain": [
       "EmployeeID           category\n",
       "TotalWorkingHours     float64\n",
       "Billable_Hours        float64\n",
       "Hours_off_Duty        float64\n",
       "Touring_Hours         float64\n",
       "NoOfProjects            int64\n",
       "ActualTimeSpent         int64\n",
       "Left_Company          float64\n",
       "Job_History            object\n",
       "Joining_Date         category\n",
       "Designation          category\n",
       "Sex                     int64\n",
       "dtype: object"
      ]
     },
     "execution_count": 66,
     "metadata": {},
     "output_type": "execute_result"
    }
   ],
   "source": [
    "train_data.dtypes"
   ]
  },
  {
   "cell_type": "code",
   "execution_count": null,
   "metadata": {},
   "outputs": [],
   "source": []
  },
  {
   "cell_type": "code",
   "execution_count": 67,
   "metadata": {},
   "outputs": [
    {
     "data": {
      "text/plain": [
       "Index(['EmployeeID', 'TotalWorkingHours', 'Billable_Hours', 'Hours_off_Duty',\n",
       "       'Touring_Hours', 'NoOfProjects', 'ActualTimeSpent', 'Left_Company',\n",
       "       'Job_History', 'Joining_Date', 'Designation', 'Sex'],\n",
       "      dtype='object')"
      ]
     },
     "execution_count": 67,
     "metadata": {},
     "output_type": "execute_result"
    }
   ],
   "source": [
    "train_data.columns"
   ]
  },
  {
   "cell_type": "code",
   "execution_count": 68,
   "metadata": {},
   "outputs": [
    {
     "data": {
      "text/plain": [
       "['TotalWorkingHours',\n",
       " 'Billable_Hours',\n",
       " 'Hours_off_Duty',\n",
       " 'Touring_Hours',\n",
       " 'NoOfProjects',\n",
       " 'ActualTimeSpent',\n",
       " 'Left_Company',\n",
       " 'Sex']"
      ]
     },
     "execution_count": 68,
     "metadata": {},
     "output_type": "execute_result"
    }
   ],
   "source": [
    "num_data"
   ]
  },
  {
   "cell_type": "code",
   "execution_count": 69,
   "metadata": {},
   "outputs": [
    {
     "data": {
      "text/plain": [
       "['Designation', 'sex']"
      ]
     },
     "execution_count": 69,
     "metadata": {},
     "output_type": "execute_result"
    }
   ],
   "source": [
    "cat_data"
   ]
  },
  {
   "cell_type": "code",
   "execution_count": 70,
   "metadata": {},
   "outputs": [
    {
     "data": {
      "text/plain": [
       "26    14\n",
       "24    13\n",
       "18    11\n",
       "5     11\n",
       "11    11\n",
       "13    10\n",
       "7      9\n",
       "20     9\n",
       "15     9\n",
       "28     9\n",
       "29     8\n",
       "10     8\n",
       "25     8\n",
       "31     7\n",
       "30     7\n",
       "19     6\n",
       "14     6\n",
       "27     6\n",
       "6      6\n",
       "16     6\n",
       "12     5\n",
       "0      5\n",
       "33     4\n",
       "2      4\n",
       "48     4\n",
       "9      4\n",
       "21     4\n",
       "40     4\n",
       "4      3\n",
       "8      3\n",
       "23     3\n",
       "22     3\n",
       "42     3\n",
       "3      2\n",
       "34     2\n",
       "35     2\n",
       "37     2\n",
       "38     2\n",
       "43     2\n",
       "46     2\n",
       "17     1\n",
       "1      1\n",
       "61     1\n",
       "39     1\n",
       "53     1\n",
       "32     1\n",
       "62     1\n",
       "78     1\n",
       "Name: NoOfProjects, dtype: int64"
      ]
     },
     "execution_count": 70,
     "metadata": {},
     "output_type": "execute_result"
    }
   ],
   "source": [
    "train_data.NoOfProjects.value_counts()"
   ]
  },
  {
   "cell_type": "code",
   "execution_count": null,
   "metadata": {},
   "outputs": [],
   "source": [
    "train_data.dtypes"
   ]
  },
  {
   "cell_type": "markdown",
   "metadata": {},
   "source": [
    "## Dropping Unwanted columns"
   ]
  },
  {
   "cell_type": "code",
   "execution_count": null,
   "metadata": {},
   "outputs": [],
   "source": [
    "train_data_employee.Job_History.value_counts()"
   ]
  },
  {
   "cell_type": "code",
   "execution_count": null,
   "metadata": {},
   "outputs": [],
   "source": [
    "train_data.drop(['Job_History'], axis=1, inplace=True)"
   ]
  },
  {
   "cell_type": "code",
   "execution_count": null,
   "metadata": {},
   "outputs": [],
   "source": [
    "cat_data.remove('Job_History')"
   ]
  },
  {
   "cell_type": "code",
   "execution_count": null,
   "metadata": {},
   "outputs": [],
   "source": [
    "cat_data"
   ]
  },
  {
   "cell_type": "code",
   "execution_count": null,
   "metadata": {},
   "outputs": [],
   "source": [
    "num_data"
   ]
  },
  {
   "cell_type": "code",
   "execution_count": null,
   "metadata": {},
   "outputs": [],
   "source": [
    "train_data.columns"
   ]
  },
  {
   "cell_type": "code",
   "execution_count": null,
   "metadata": {},
   "outputs": [],
   "source": [
    "train_data.describe()"
   ]
  },
  {
   "cell_type": "code",
   "execution_count": null,
   "metadata": {},
   "outputs": [],
   "source": [
    "train_data.describe(include='object')"
   ]
  },
  {
   "cell_type": "code",
   "execution_count": null,
   "metadata": {},
   "outputs": [],
   "source": [
    "train_data.Left_Company.value_counts()"
   ]
  },
  {
   "cell_type": "markdown",
   "metadata": {},
   "source": [
    "## Merging Test Data"
   ]
  },
  {
   "cell_type": "code",
   "execution_count": null,
   "metadata": {},
   "outputs": [],
   "source": [
    "test_data= pd.merge(test_data_work,test_data_employee, how=\"left\", on=\"EmployeeID\")"
   ]
  },
  {
   "cell_type": "code",
   "execution_count": null,
   "metadata": {},
   "outputs": [],
   "source": [
    "test_data.head()"
   ]
  },
  {
   "cell_type": "code",
   "execution_count": null,
   "metadata": {},
   "outputs": [],
   "source": []
  },
  {
   "cell_type": "code",
   "execution_count": null,
   "metadata": {},
   "outputs": [],
   "source": [
    "test_data.isnull().sum()"
   ]
  },
  {
   "cell_type": "code",
   "execution_count": null,
   "metadata": {},
   "outputs": [],
   "source": [
    "test_data.columns"
   ]
  },
  {
   "cell_type": "code",
   "execution_count": null,
   "metadata": {},
   "outputs": [],
   "source": [
    "test_data.dtypes"
   ]
  },
  {
   "cell_type": "code",
   "execution_count": null,
   "metadata": {},
   "outputs": [],
   "source": [
    "test_data.shape"
   ]
  },
  {
   "cell_type": "code",
   "execution_count": null,
   "metadata": {},
   "outputs": [],
   "source": [
    "cat_data = ['Job_History','Designation']"
   ]
  },
  {
   "cell_type": "code",
   "execution_count": null,
   "metadata": {},
   "outputs": [],
   "source": [
    "for col in cat_data:\n",
    "    test_data[col] = test_data[col].astype('category')\n",
    "    "
   ]
  },
  {
   "cell_type": "code",
   "execution_count": null,
   "metadata": {},
   "outputs": [],
   "source": [
    "test_data['EmployeeID'] = test_data['EmployeeID'].astype('category')"
   ]
  },
  {
   "cell_type": "code",
   "execution_count": null,
   "metadata": {},
   "outputs": [],
   "source": [
    "test_data['Joining_Date'] = test_data['Joining_Date'].astype('category')"
   ]
  },
  {
   "cell_type": "code",
   "execution_count": null,
   "metadata": {},
   "outputs": [],
   "source": [
    "num_data = list(test_data.select_dtypes(include=['int64', 'float64']).columns)"
   ]
  },
  {
   "cell_type": "markdown",
   "metadata": {},
   "source": [
    "## Dropping unwanted columns"
   ]
  },
  {
   "cell_type": "code",
   "execution_count": null,
   "metadata": {},
   "outputs": [],
   "source": [
    "test_data.drop(['Job_History'], axis=1, inplace=True)"
   ]
  },
  {
   "cell_type": "code",
   "execution_count": null,
   "metadata": {},
   "outputs": [],
   "source": [
    "cat_data.remove('Job_History')"
   ]
  },
  {
   "cell_type": "code",
   "execution_count": null,
   "metadata": {},
   "outputs": [],
   "source": [
    "cat_data"
   ]
  },
  {
   "cell_type": "code",
   "execution_count": null,
   "metadata": {},
   "outputs": [],
   "source": [
    "num_data"
   ]
  },
  {
   "cell_type": "markdown",
   "metadata": {},
   "source": [
    "## Visualisation"
   ]
  },
  {
   "cell_type": "code",
   "execution_count": null,
   "metadata": {},
   "outputs": [],
   "source": [
    "%matplotlib inline\n",
    "import numpy as np\n",
    "import pandas as pd\n",
    "import graphviz\n",
    "import matplotlib.pyplot as plt\n",
    "import seaborn as sns"
   ]
  },
  {
   "cell_type": "code",
   "execution_count": null,
   "metadata": {},
   "outputs": [],
   "source": [
    "corr=train_data[num_data].corr()\n"
   ]
  },
  {
   "cell_type": "code",
   "execution_count": null,
   "metadata": {},
   "outputs": [],
   "source": [
    "#Not much correlation found\n",
    "fig, ax = plt.subplots()\n",
    "fig.set_size_inches(20, 10)\n",
    "sns.heatmap(corr,cmap='coolwarm',ax=ax,annot=True,linewidths=2)"
   ]
  },
  {
   "cell_type": "code",
   "execution_count": null,
   "metadata": {},
   "outputs": [],
   "source": [
    "train_data.groupby(['Sex','Left_Company']).size().unstack().plot(kind='bar', title=\"Sex&Left_company\", figsize=(25,8))\n",
    "plt.ylabel('count')\n",
    "plt.title('Sex vs. Left_Company');"
   ]
  },
  {
   "cell_type": "code",
   "execution_count": null,
   "metadata": {},
   "outputs": [],
   "source": [
    "train_data.groupby(['Designation','Left_Company']).size().unstack().plot(kind='bar', title=\"Designation&Left_Company\", figsize=(25,8))\n",
    "plt.ylabel('count')\n",
    "plt.title('Designation vs. Left_Company');"
   ]
  },
  {
   "cell_type": "code",
   "execution_count": null,
   "metadata": {},
   "outputs": [],
   "source": [
    "train_data.groupby(['Joining_Date','Left_Company']).size().unstack().plot(kind='bar', title=\"Joining_Date\", figsize=(25,8))\n",
    "plt.ylabel('count')\n",
    "plt.title('Joining_Date vs. Left_Company'); #(0 -'Joining Date' , 1 -'Left Company')"
   ]
  },
  {
   "cell_type": "markdown",
   "metadata": {},
   "source": [
    "## Dummying Train and Test"
   ]
  },
  {
   "cell_type": "code",
   "execution_count": null,
   "metadata": {},
   "outputs": [],
   "source": [
    "train_data = pd.get_dummies(train_data, columns=cat_data, drop_first=True)"
   ]
  },
  {
   "cell_type": "code",
   "execution_count": null,
   "metadata": {},
   "outputs": [],
   "source": [
    "train_data.head()"
   ]
  },
  {
   "cell_type": "code",
   "execution_count": null,
   "metadata": {},
   "outputs": [],
   "source": [
    "train_data.isnull().sum()"
   ]
  },
  {
   "cell_type": "code",
   "execution_count": null,
   "metadata": {},
   "outputs": [],
   "source": [
    "test_data = pd.get_dummies(test_data, columns=cat_data, drop_first=True)"
   ]
  },
  {
   "cell_type": "code",
   "execution_count": null,
   "metadata": {},
   "outputs": [],
   "source": [
    "test_data.head()"
   ]
  },
  {
   "cell_type": "code",
   "execution_count": null,
   "metadata": {},
   "outputs": [],
   "source": [
    "test_data.isnull().sum()"
   ]
  },
  {
   "cell_type": "code",
   "execution_count": null,
   "metadata": {},
   "outputs": [],
   "source": [
    "train_data.shape"
   ]
  },
  {
   "cell_type": "code",
   "execution_count": null,
   "metadata": {},
   "outputs": [],
   "source": [
    "test_data.shape"
   ]
  },
  {
   "cell_type": "code",
   "execution_count": null,
   "metadata": {},
   "outputs": [],
   "source": [
    "## Scaling on numerical"
   ]
  },
  {
   "cell_type": "code",
   "execution_count": null,
   "metadata": {},
   "outputs": [],
   "source": [
    "# from sklearn.preprocessing import StandardScaler\n",
    "\n",
    "sc = StandardScaler()\n",
    "sc.fit(train_data.loc[:,num_data])\n",
    "\n",
    "train_data.loc[:,num_data] = sc.transform(train_data.loc[:,num_data])\n",
    "test_data.loc[:,num_data] = sc.transform(test_data.loc[:,num_data])"
   ]
  },
  {
   "cell_type": "markdown",
   "metadata": {},
   "source": [
    "## modelling"
   ]
  },
  {
   "cell_type": "code",
   "execution_count": null,
   "metadata": {},
   "outputs": [],
   "source": [
    "X = train_data.loc[:, train_data.columns != 'Left_Company']\n",
    "y = train_data['Left_Company']"
   ]
  },
  {
   "cell_type": "code",
   "execution_count": null,
   "metadata": {},
   "outputs": [],
   "source": [
    "from sklearn.model_selection import train_test_split\n",
    "\n",
    "X_train, X_test, y_train, y_test = train_test_split(X, y, \n",
    "                                                    test_size=0.2, \n",
    "                                                    random_state=123, \n",
    "                                                    stratify=y)"
   ]
  },
  {
   "cell_type": "code",
   "execution_count": null,
   "metadata": {},
   "outputs": [],
   "source": [
    "X_train.shape"
   ]
  },
  {
   "cell_type": "code",
   "execution_count": null,
   "metadata": {},
   "outputs": [],
   "source": [
    "X_train.isnull().sum().sum()"
   ]
  },
  {
   "cell_type": "code",
   "execution_count": null,
   "metadata": {},
   "outputs": [],
   "source": [
    "y_train.isnull().sum().sum()"
   ]
  },
  {
   "cell_type": "code",
   "execution_count": null,
   "metadata": {},
   "outputs": [],
   "source": [
    "X_test.shape"
   ]
  },
  {
   "cell_type": "code",
   "execution_count": null,
   "metadata": {},
   "outputs": [],
   "source": [
    "y_train.shape"
   ]
  },
  {
   "cell_type": "code",
   "execution_count": null,
   "metadata": {},
   "outputs": [],
   "source": [
    "y_test.shape"
   ]
  },
  {
   "cell_type": "code",
   "execution_count": null,
   "metadata": {},
   "outputs": [],
   "source": [
    "y_train.mean()"
   ]
  },
  {
   "cell_type": "code",
   "execution_count": null,
   "metadata": {},
   "outputs": [],
   "source": [
    "y_test.mean()"
   ]
  },
  {
   "cell_type": "markdown",
   "metadata": {},
   "source": [
    "## modelling"
   ]
  },
  {
   "cell_type": "markdown",
   "metadata": {},
   "source": [
    "### Decision Trees"
   ]
  },
  {
   "cell_type": "code",
   "execution_count": null,
   "metadata": {},
   "outputs": [],
   "source": [
    "from sklearn.metrics import accuracy_score,classification_report, recall_score, precision_score,confusion_matrix,mean_absolute_error,mean_squared_error\n"
   ]
  },
  {
   "cell_type": "code",
   "execution_count": null,
   "metadata": {},
   "outputs": [],
   "source": [
    "## Building Decision Tree\n",
    "from sklearn import tree"
   ]
  },
  {
   "cell_type": "code",
   "execution_count": null,
   "metadata": {},
   "outputs": [],
   "source": [
    "clf = tree.DecisionTreeClassifier(max_depth=7)"
   ]
  },
  {
   "cell_type": "code",
   "execution_count": null,
   "metadata": {},
   "outputs": [],
   "source": [
    "X_train.drop(['EmployeeID'], axis=1, inplace=True)"
   ]
  },
  {
   "cell_type": "code",
   "execution_count": null,
   "metadata": {},
   "outputs": [],
   "source": [
    "X_test.drop(['EmployeeID'], axis=1, inplace=True)"
   ]
  },
  {
   "cell_type": "code",
   "execution_count": null,
   "metadata": {},
   "outputs": [],
   "source": [
    "%time clf.fit(X_train, y_train)"
   ]
  },
  {
   "cell_type": "code",
   "execution_count": null,
   "metadata": {},
   "outputs": [],
   "source": [
    "#train prediction\n",
    "y1_pred_ = clf.predict(X_train)"
   ]
  },
  {
   "cell_type": "code",
   "execution_count": null,
   "metadata": {},
   "outputs": [],
   "source": [
    "print(accuracy_score(y_train,y1_pred_))"
   ]
  },
  {
   "cell_type": "code",
   "execution_count": null,
   "metadata": {},
   "outputs": [],
   "source": [
    "#evaluation data prediction\n",
    "y_pred_ = clf.predict(X_test)"
   ]
  },
  {
   "cell_type": "code",
   "execution_count": null,
   "metadata": {},
   "outputs": [],
   "source": [
    "print(accuracy_score(y_test,y_pred_))"
   ]
  },
  {
   "cell_type": "markdown",
   "metadata": {},
   "source": [
    "## feture importances"
   ]
  },
  {
   "cell_type": "code",
   "execution_count": null,
   "metadata": {},
   "outputs": [],
   "source": [
    "importances = clf.feature_importances_\n",
    "indices = np.argsort(importances)[::-1]\n",
    "pd.DataFrame([train_data.columns[indices],np.sort(importances)[::-1]])"
   ]
  },
  {
   "cell_type": "code",
   "execution_count": null,
   "metadata": {},
   "outputs": [],
   "source": [
    "#Grid Search for Hyper-parameter tuning\n",
    "from sklearn.model_selection import GridSearchCV"
   ]
  },
  {
   "cell_type": "code",
   "execution_count": null,
   "metadata": {},
   "outputs": [],
   "source": [
    "# set of parameters to test\n",
    "param_grid = {\"criterion\": [\"gini\", \"entropy\"],\n",
    "              \"min_samples_split\": [2, 10, 20,25],\n",
    "              \"max_depth\": [4,5,6,7,8],\n",
    "              \"min_samples_leaf\": [1,2,3,5,8,10],\n",
    "              \"max_leaf_nodes\": [2,3,4,6,8,10],\n",
    "              }"
   ]
  },
  {
   "cell_type": "code",
   "execution_count": null,
   "metadata": {},
   "outputs": [],
   "source": [
    "dt = tree.DecisionTreeClassifier()\n",
    "dt_model = GridSearchCV(dt, param_grid, cv=10)"
   ]
  },
  {
   "cell_type": "code",
   "execution_count": null,
   "metadata": {},
   "outputs": [],
   "source": [
    "%time dt_model.fit(X_train, y_train)"
   ]
  },
  {
   "cell_type": "code",
   "execution_count": null,
   "metadata": {},
   "outputs": [],
   "source": [
    "dt_model.best_params_"
   ]
  },
  {
   "cell_type": "code",
   "execution_count": null,
   "metadata": {},
   "outputs": [],
   "source": [
    "y1_pred_ = dt_model.predict(X_train)"
   ]
  },
  {
   "cell_type": "code",
   "execution_count": null,
   "metadata": {},
   "outputs": [],
   "source": [
    "#Accuracy against train data\n",
    "print(accuracy_score(y_train,y1_pred_))\n",
    "print(\"\\n\")"
   ]
  },
  {
   "cell_type": "code",
   "execution_count": null,
   "metadata": {},
   "outputs": [],
   "source": [
    "#Accuracy against eval data\n",
    "y_pred_ = dt_model.predict(X_test)"
   ]
  },
  {
   "cell_type": "code",
   "execution_count": null,
   "metadata": {},
   "outputs": [],
   "source": [
    "print(accuracy_score(y_test,y_pred_))"
   ]
  },
  {
   "cell_type": "code",
   "execution_count": null,
   "metadata": {},
   "outputs": [],
   "source": [
    "test_data.drop(['EmployeeID'], axis=1, inplace=True)"
   ]
  },
  {
   "cell_type": "code",
   "execution_count": null,
   "metadata": {},
   "outputs": [],
   "source": [
    "### For TEST Dataset prediction\n",
    "y_pred_test_dt=dt_model.predict(test_data) "
   ]
  },
  {
   "cell_type": "code",
   "execution_count": null,
   "metadata": {},
   "outputs": [],
   "source": [
    "y_pred_test_dt"
   ]
  },
  {
   "cell_type": "code",
   "execution_count": null,
   "metadata": {},
   "outputs": [],
   "source": [
    "## dec trees confusio matrix\n",
    "\n",
    "print(classification_report(y_train,y1_pred_))"
   ]
  },
  {
   "cell_type": "code",
   "execution_count": null,
   "metadata": {},
   "outputs": [],
   "source": [
    "print(classification_report(y_test,y_pred_))"
   ]
  },
  {
   "cell_type": "code",
   "execution_count": null,
   "metadata": {},
   "outputs": [],
   "source": []
  }
 ],
 "metadata": {
  "kernelspec": {
   "display_name": "Python 3",
   "language": "python",
   "name": "python3"
  },
  "language_info": {
   "codemirror_mode": {
    "name": "ipython",
    "version": 3
   },
   "file_extension": ".py",
   "mimetype": "text/x-python",
   "name": "python",
   "nbconvert_exporter": "python",
   "pygments_lexer": "ipython3",
   "version": "3.7.0"
  }
 },
 "nbformat": 4,
 "nbformat_minor": 2
}
